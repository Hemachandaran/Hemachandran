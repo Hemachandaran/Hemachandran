{
  "nbformat": 4,
  "nbformat_minor": 0,
  "metadata": {
    "colab": {
      "provenance": [],
      "gpuType": "T4"
    },
    "kernelspec": {
      "name": "python3",
      "display_name": "Python 3"
    },
    "language_info": {
      "name": "python"
    },
    "accelerator": "GPU"
  },
  "cells": [
    {
      "cell_type": "code",
      "source": [
        "import torch\n",
        "import pandas as pd\n",
        "import numpy as np\n",
        "import matplotlib.pyplot as plt\n",
        "print(torch.__version__)"
      ],
      "metadata": {
        "colab": {
          "base_uri": "https://localhost:8080/"
        },
        "id": "WxFfrFN449_h",
        "outputId": "e349690c-971b-4019-8828-60df11bd48db"
      },
      "execution_count": null,
      "outputs": [
        {
          "output_type": "stream",
          "name": "stdout",
          "text": [
            "2.4.0+cu121\n"
          ]
        }
      ]
    },
    {
      "cell_type": "markdown",
      "source": [
        "# **Intro to tensors**\n"
      ],
      "metadata": {
        "id": "ybdXeKcH5t2V"
      }
    },
    {
      "cell_type": "code",
      "source": [
        "# creating a scalar\n",
        "scalar = torch.tensor(10)\n",
        "scalar.ndim"
      ],
      "metadata": {
        "colab": {
          "base_uri": "https://localhost:8080/"
        },
        "id": "sEdjACZQ5VT3",
        "outputId": "f4e01ceb-6a8d-4100-c35b-1b9ebf065c0c"
      },
      "execution_count": null,
      "outputs": [
        {
          "output_type": "execute_result",
          "data": {
            "text/plain": [
              "0"
            ]
          },
          "metadata": {},
          "execution_count": 2
        }
      ]
    },
    {
      "cell_type": "code",
      "source": [
        "# creating vector\n",
        "vector = torch.tensor([24,26])\n",
        "vector.ndim"
      ],
      "metadata": {
        "colab": {
          "base_uri": "https://localhost:8080/"
        },
        "id": "RIFdE4vB55Wm",
        "outputId": "3406d596-0c80-46eb-a1dc-5ed11f163462"
      },
      "execution_count": null,
      "outputs": [
        {
          "output_type": "execute_result",
          "data": {
            "text/plain": [
              "1"
            ]
          },
          "metadata": {},
          "execution_count": 3
        }
      ]
    },
    {
      "cell_type": "code",
      "source": [
        "vector.shape"
      ],
      "metadata": {
        "colab": {
          "base_uri": "https://localhost:8080/"
        },
        "id": "nw_3E9hO7xlH",
        "outputId": "0257c036-f670-4b31-c189-7b7108230d74"
      },
      "execution_count": null,
      "outputs": [
        {
          "output_type": "execute_result",
          "data": {
            "text/plain": [
              "torch.Size([2])"
            ]
          },
          "metadata": {},
          "execution_count": 4
        }
      ]
    },
    {
      "cell_type": "code",
      "source": [
        "#creat matrix\n",
        "MATRIX = torch.tensor([[24,13],[24,26]])\n",
        "MATRIX.ndim"
      ],
      "metadata": {
        "colab": {
          "base_uri": "https://localhost:8080/"
        },
        "id": "ciycwUsc7ID1",
        "outputId": "7d6b4208-3310-4f99-c22f-95592a98fbe2"
      },
      "execution_count": null,
      "outputs": [
        {
          "output_type": "execute_result",
          "data": {
            "text/plain": [
              "2"
            ]
          },
          "metadata": {},
          "execution_count": 5
        }
      ]
    },
    {
      "cell_type": "code",
      "source": [
        "MATRIX.shape"
      ],
      "metadata": {
        "colab": {
          "base_uri": "https://localhost:8080/"
        },
        "id": "2iZ9vbua7w9Y",
        "outputId": "10cdd68c-b59a-45f1-e974-31b314e17fe5"
      },
      "execution_count": null,
      "outputs": [
        {
          "output_type": "execute_result",
          "data": {
            "text/plain": [
              "torch.Size([2, 2])"
            ]
          },
          "metadata": {},
          "execution_count": 6
        }
      ]
    },
    {
      "cell_type": "code",
      "source": [
        "# creating tensor\n",
        "TENSOR = torch.tensor([[[24,13],[24,11],[24,26]]])\n",
        "TENSOR"
      ],
      "metadata": {
        "id": "KKQaLuM4774U",
        "colab": {
          "base_uri": "https://localhost:8080/"
        },
        "outputId": "1174e625-5001-44a8-d0d1-b6c97e6f912d"
      },
      "execution_count": null,
      "outputs": [
        {
          "output_type": "execute_result",
          "data": {
            "text/plain": [
              "tensor([[[24, 13],\n",
              "         [24, 11],\n",
              "         [24, 26]]])"
            ]
          },
          "metadata": {},
          "execution_count": 7
        }
      ]
    },
    {
      "cell_type": "code",
      "source": [
        "TENSOR.ndim"
      ],
      "metadata": {
        "colab": {
          "base_uri": "https://localhost:8080/"
        },
        "id": "hJamiyBEaZKg",
        "outputId": "ce6aa4af-9fb2-4589-8fb0-2eaa57c6c0cc"
      },
      "execution_count": null,
      "outputs": [
        {
          "output_type": "execute_result",
          "data": {
            "text/plain": [
              "3"
            ]
          },
          "metadata": {},
          "execution_count": 8
        }
      ]
    },
    {
      "cell_type": "code",
      "source": [
        "TENSOR.shape"
      ],
      "metadata": {
        "colab": {
          "base_uri": "https://localhost:8080/"
        },
        "id": "RgIKPaInagRJ",
        "outputId": "163218ae-2106-4b17-d6fa-9f9635e0fb2a"
      },
      "execution_count": null,
      "outputs": [
        {
          "output_type": "execute_result",
          "data": {
            "text/plain": [
              "torch.Size([1, 3, 2])"
            ]
          },
          "metadata": {},
          "execution_count": 9
        }
      ]
    },
    {
      "cell_type": "code",
      "source": [
        "TENSOR[0,1]"
      ],
      "metadata": {
        "colab": {
          "base_uri": "https://localhost:8080/"
        },
        "id": "o0pktqLdajA8",
        "outputId": "f06a34cf-1d50-401d-ee69-608ba1a7a26f"
      },
      "execution_count": null,
      "outputs": [
        {
          "output_type": "execute_result",
          "data": {
            "text/plain": [
              "tensor([24, 11])"
            ]
          },
          "metadata": {},
          "execution_count": 10
        }
      ]
    },
    {
      "cell_type": "markdown",
      "source": [
        "![image.png](data:image/png;base64,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)"
      ],
      "metadata": {
        "id": "kXBRmaZCb6zd"
      }
    },
    {
      "cell_type": "code",
      "source": [
        "#creating random tensor\n",
        "TENSOR = torch.rand(2,3)\n",
        "TENSOR"
      ],
      "metadata": {
        "id": "53MYFQRTbOg4",
        "colab": {
          "base_uri": "https://localhost:8080/"
        },
        "outputId": "1a3ffa34-8ae2-4486-9f77-b324d07791c9"
      },
      "execution_count": null,
      "outputs": [
        {
          "output_type": "execute_result",
          "data": {
            "text/plain": [
              "tensor([[0.1778, 0.0776, 0.7805],\n",
              "        [0.4575, 0.9136, 0.4036]])"
            ]
          },
          "metadata": {},
          "execution_count": 11
        }
      ]
    },
    {
      "cell_type": "code",
      "source": [
        "TENSOR_IMG = torch.rand(2,150,150)"
      ],
      "metadata": {
        "id": "clt5vLweDBYx"
      },
      "execution_count": null,
      "outputs": []
    },
    {
      "cell_type": "code",
      "source": [
        "TENSOR_IMG.ndim,TENSOR_IMG.shape"
      ],
      "metadata": {
        "colab": {
          "base_uri": "https://localhost:8080/"
        },
        "id": "Uvuo_aMKEM_Q",
        "outputId": "ce921eef-36e3-443a-baab-22b27829383e"
      },
      "execution_count": null,
      "outputs": [
        {
          "output_type": "execute_result",
          "data": {
            "text/plain": [
              "(3, torch.Size([2, 150, 150]))"
            ]
          },
          "metadata": {},
          "execution_count": 13
        }
      ]
    },
    {
      "cell_type": "code",
      "source": [
        "# creating zero tenser and one tenser\n",
        "# zero tenser\n",
        "ZERO = torch.zeros(2,3)\n",
        "print(ZERO)\n",
        "# one tenser\n",
        "ONE = torch.ones(2,3)\n",
        "print(ONE)\n"
      ],
      "metadata": {
        "colab": {
          "base_uri": "https://localhost:8080/"
        },
        "id": "OEww7zO-EOzf",
        "outputId": "56b4864e-e6a8-443b-c5e8-9e3058c2cab1"
      },
      "execution_count": null,
      "outputs": [
        {
          "output_type": "stream",
          "name": "stdout",
          "text": [
            "tensor([[0., 0., 0.],\n",
            "        [0., 0., 0.]])\n",
            "tensor([[1., 1., 1.],\n",
            "        [1., 1., 1.]])\n"
          ]
        }
      ]
    },
    {
      "cell_type": "markdown",
      "source": [
        "# creating a range of tenser and tenser like  \n",
        "\n"
      ],
      "metadata": {
        "id": "GdKLftzhGR5B"
      }
    },
    {
      "cell_type": "code",
      "source": [
        "tns=torch.arange(0,12,.5).reshape(2,12)\n",
        "tns"
      ],
      "metadata": {
        "colab": {
          "base_uri": "https://localhost:8080/"
        },
        "id": "9aHT3o1DGWl1",
        "outputId": "533e4d66-9da4-4eb9-b4ac-ff01ac71646a"
      },
      "execution_count": null,
      "outputs": [
        {
          "output_type": "execute_result",
          "data": {
            "text/plain": [
              "tensor([[ 0.0000,  0.5000,  1.0000,  1.5000,  2.0000,  2.5000,  3.0000,  3.5000,\n",
              "          4.0000,  4.5000,  5.0000,  5.5000],\n",
              "        [ 6.0000,  6.5000,  7.0000,  7.5000,  8.0000,  8.5000,  9.0000,  9.5000,\n",
              "         10.0000, 10.5000, 11.0000, 11.5000]])"
            ]
          },
          "metadata": {},
          "execution_count": 15
        }
      ]
    },
    {
      "cell_type": "code",
      "source": [
        "torch.ones_like(tns)"
      ],
      "metadata": {
        "colab": {
          "base_uri": "https://localhost:8080/"
        },
        "id": "2zAWUGrlGdLd",
        "outputId": "8f0c6c3a-476f-4864-e9df-0aed3bce31bb"
      },
      "execution_count": null,
      "outputs": [
        {
          "output_type": "execute_result",
          "data": {
            "text/plain": [
              "tensor([[1., 1., 1., 1., 1., 1., 1., 1., 1., 1., 1., 1.],\n",
              "        [1., 1., 1., 1., 1., 1., 1., 1., 1., 1., 1., 1.]])"
            ]
          },
          "metadata": {},
          "execution_count": 16
        }
      ]
    },
    {
      "cell_type": "code",
      "source": [
        "torch.manual_seed(42)\n",
        "tns1=torch.rand(120).reshape(2,60)*10\n",
        "torch.manual_seed(42)\n",
        "tns2=torch.rand(120).reshape(20,6)\n",
        "print(tns1)\n",
        "print(tns2)"
      ],
      "metadata": {
        "colab": {
          "base_uri": "https://localhost:8080/"
        },
        "id": "zyIgQT_vHtF3",
        "outputId": "5b1bfc24-8965-47b8-c11a-d664a08828a1"
      },
      "execution_count": null,
      "outputs": [
        {
          "output_type": "stream",
          "name": "stdout",
          "text": [
            "tensor([[8.8227, 9.1500, 3.8286, 9.5931, 3.9045, 6.0090, 2.5657, 7.9364, 9.4077,\n",
            "         1.3319, 9.3460, 5.9358, 8.6940, 5.6772, 7.4109, 4.2940, 8.8544, 5.7390,\n",
            "         2.6658, 6.2745, 2.6963, 4.4136, 2.9692, 8.3169, 1.0531, 2.6949, 3.5881,\n",
            "         1.9936, 5.4719, 0.0616, 9.5155, 0.7527, 8.8601, 5.8321, 3.3765, 8.0898,\n",
            "         5.7793, 9.0398, 5.5466, 3.4231, 6.3434, 3.6441, 7.1043, 9.4641, 7.8903,\n",
            "         2.8141, 7.8863, 5.8946, 7.5392, 1.9525, 0.0505, 3.0682, 1.1649, 9.1027,\n",
            "         6.4402, 7.0711, 6.5813, 4.9130, 8.9130, 1.4474],\n",
            "        [5.3148, 1.5873, 6.5418, 3.2781, 6.5321, 3.9583, 9.1470, 2.0365, 2.0180,\n",
            "         2.0178, 9.4972, 6.6663, 9.8113, 0.8736, 0.0406, 1.0882, 1.6366, 7.0252,\n",
            "         6.7904, 9.1546, 2.4179, 1.5914, 7.6529, 2.9790, 8.0346, 3.8135, 7.8602,\n",
            "         1.1152, 2.4768, 6.5244, 6.0570, 3.7252, 7.9803, 8.3990, 1.3741, 2.3307,\n",
            "         9.5783, 3.3128, 3.2274, 0.1620, 2.1366, 6.2490, 4.3400, 1.3706, 5.1173,\n",
            "         1.5846, 0.7580, 2.2467, 0.6239, 1.8163, 9.9980, 5.9444, 6.5408, 0.3366,\n",
            "         1.7161, 3.3357, 5.7819, 0.6004, 2.8456, 2.0067]])\n",
            "tensor([[0.8823, 0.9150, 0.3829, 0.9593, 0.3904, 0.6009],\n",
            "        [0.2566, 0.7936, 0.9408, 0.1332, 0.9346, 0.5936],\n",
            "        [0.8694, 0.5677, 0.7411, 0.4294, 0.8854, 0.5739],\n",
            "        [0.2666, 0.6274, 0.2696, 0.4414, 0.2969, 0.8317],\n",
            "        [0.1053, 0.2695, 0.3588, 0.1994, 0.5472, 0.0062],\n",
            "        [0.9516, 0.0753, 0.8860, 0.5832, 0.3376, 0.8090],\n",
            "        [0.5779, 0.9040, 0.5547, 0.3423, 0.6343, 0.3644],\n",
            "        [0.7104, 0.9464, 0.7890, 0.2814, 0.7886, 0.5895],\n",
            "        [0.7539, 0.1952, 0.0050, 0.3068, 0.1165, 0.9103],\n",
            "        [0.6440, 0.7071, 0.6581, 0.4913, 0.8913, 0.1447],\n",
            "        [0.5315, 0.1587, 0.6542, 0.3278, 0.6532, 0.3958],\n",
            "        [0.9147, 0.2036, 0.2018, 0.2018, 0.9497, 0.6666],\n",
            "        [0.9811, 0.0874, 0.0041, 0.1088, 0.1637, 0.7025],\n",
            "        [0.6790, 0.9155, 0.2418, 0.1591, 0.7653, 0.2979],\n",
            "        [0.8035, 0.3813, 0.7860, 0.1115, 0.2477, 0.6524],\n",
            "        [0.6057, 0.3725, 0.7980, 0.8399, 0.1374, 0.2331],\n",
            "        [0.9578, 0.3313, 0.3227, 0.0162, 0.2137, 0.6249],\n",
            "        [0.4340, 0.1371, 0.5117, 0.1585, 0.0758, 0.2247],\n",
            "        [0.0624, 0.1816, 0.9998, 0.5944, 0.6541, 0.0337],\n",
            "        [0.1716, 0.3336, 0.5782, 0.0600, 0.2846, 0.2007]])\n"
          ]
        }
      ]
    },
    {
      "cell_type": "code",
      "source": [
        "import seaborn as sns\n",
        "import matplotlib.pyplot as plt\n",
        "tns4=torch.tensor(tns1,dtype=torch.int8).reshape(1,120)\n"
      ],
      "metadata": {
        "colab": {
          "base_uri": "https://localhost:8080/"
        },
        "id": "73GJM7b6Qqj5",
        "outputId": "23c962b0-c9b8-4682-a6ac-b1e75e082752"
      },
      "execution_count": null,
      "outputs": [
        {
          "output_type": "stream",
          "name": "stderr",
          "text": [
            "<ipython-input-18-ff628d224d62>:3: UserWarning: To copy construct from a tensor, it is recommended to use sourceTensor.clone().detach() or sourceTensor.clone().detach().requires_grad_(True), rather than torch.tensor(sourceTensor).\n",
            "  tns4=torch.tensor(tns1,dtype=torch.int8).reshape(1,120)\n"
          ]
        }
      ]
    },
    {
      "cell_type": "code",
      "source": [
        "# prompt: visulize the tns4 and its distribution\n",
        "\n",
        "# Visualize tns4\n",
        "plt.figure(figsize=(10, 5))\n",
        "plt.plot(tns4[0])\n",
        "plt.title('tns4')\n",
        "plt.xlabel('Index')\n",
        "plt.ylabel('Value')\n",
        "plt.show()\n",
        "\n",
        "# Visualize the distribution of tns4\n",
        "plt.figure(figsize=(10, 5))\n",
        "sns.histplot(tns4[0], kde=True)\n",
        "plt.title('Distribution of tns4')\n",
        "plt.xlabel('Value')\n",
        "plt.ylabel('Frequency')\n",
        "plt.show()\n"
      ],
      "metadata": {
        "colab": {
          "base_uri": "https://localhost:8080/",
          "height": 953
        },
        "id": "72cC3_iZTQm6",
        "outputId": "4c3da080-04e3-4e76-de63-c8cea32c0b9a"
      },
      "execution_count": null,
      "outputs": [
        {
          "output_type": "display_data",
          "data": {
            "text/plain": [
              "<Figure size 1000x500 with 1 Axes>"
            ],
            "image/png": "[encoded data removed]"
          },
          "metadata": {}
        },
        {
          "output_type": "display_data",
          "data": {
            "text/plain": [
              "<Figure size 1000x500 with 1 Axes>"
            ],
            "image/png": "[encoded data removed]"
          },
          "metadata": {}
        }
      ]
    },
    {
      "cell_type": "code",
      "source": [
        "ones = torch.ones(2, 3)\n",
        "print(ones)\n",
        "\n",
        "twos = torch.ones(2, 3) * 2 # every element is multiplied by 2\n",
        "print(twos)\n",
        "\n",
        "threes = ones + twos       # addition allowed because shapes are similar\n",
        "print(threes)              # tensors are added element-wise\n",
        "print(threes.shape)        # this has the same dimensions as input tensors\n",
        "\n",
        "r1 = torch.rand(2, 3)\n",
        "r2 = torch.rand(3, 2)\n",
        "# diff shape\n",
        "try:\n",
        "  r3 = r1 + r2\n",
        "  print(r3)\n",
        "except Exception as e:\n",
        "  print(e)"
      ],
      "metadata": {
        "colab": {
          "base_uri": "https://localhost:8080/"
        },
        "id": "WzezdQHtJ-xA",
        "outputId": "6d4df17e-b51a-48b5-d253-38a4071ffe11"
      },
      "execution_count": null,
      "outputs": [
        {
          "output_type": "stream",
          "name": "stdout",
          "text": [
            "tensor([[1., 1., 1.],\n",
            "        [1., 1., 1.]])\n",
            "tensor([[2., 2., 2.],\n",
            "        [2., 2., 2.]])\n",
            "tensor([[3., 3., 3.],\n",
            "        [3., 3., 3.]])\n",
            "torch.Size([2, 3])\n",
            "The size of tensor a (3) must match the size of tensor b (2) at non-singleton dimension 1\n"
          ]
        }
      ]
    },
    {
      "cell_type": "code",
      "source": [
        "tns.device,tns.dtype"
      ],
      "metadata": {
        "colab": {
          "base_uri": "https://localhost:8080/"
        },
        "id": "2TDOogB9Tzq8",
        "outputId": "35ff80e4-d261-4893-d2fa-e5e48f6a2407"
      },
      "execution_count": null,
      "outputs": [
        {
          "output_type": "execute_result",
          "data": {
            "text/plain": [
              "(device(type='cpu'), torch.float32)"
            ]
          },
          "metadata": {},
          "execution_count": 21
        }
      ]
    },
    {
      "cell_type": "code",
      "source": [
        "tns_r= (torch.rand(2,2)-.5)*2\n",
        "print(f\"\"\"\n",
        "Common mathematical operations are supported:\n",
        "  *random matrix:\n",
        "    {tns_r}\n",
        "  *Absolute value:\n",
        "    {torch.abs(tns_r)}\n",
        "\n",
        "\n",
        "trigonometric functions:\n",
        "  *incerse sine of matrix:\n",
        "    {torch.asin(tns_r)}\n",
        "\n",
        "\n",
        "linear algebra operations:\n",
        "  *Determinant of matrix:\n",
        "    {torch.det(tns_r)}\n",
        "  *Single value decompotion of matrix:\n",
        "    {torch.svd(tns_r)}\n",
        "\n",
        "\n",
        "statistical and aggregate operations:\n",
        "  Standard deviation:\n",
        "    {torch.std_mean(tns_r)}\n",
        "  max:    {torch.max(tns_r)}\n",
        "  min:    {torch.min(tns_r)}\n",
        "\n",
        "\"\"\")"
      ],
      "metadata": {
        "colab": {
          "base_uri": "https://localhost:8080/"
        },
        "id": "VUHqArEaKrBP",
        "outputId": "71f23d28-adfd-4511-8411-c9bc4d6ba038"
      },
      "execution_count": null,
      "outputs": [
        {
          "output_type": "stream",
          "name": "stdout",
          "text": [
            "\n",
            "Common mathematical operations are supported:\n",
            "  *random matrix:\n",
            "    tensor([[-0.8468,  0.6920],\n",
            "        [-0.2751, -0.3833]])\n",
            "  *Absolute value:\n",
            "    tensor([[0.8468, 0.6920],\n",
            "        [0.2751, 0.3833]])\n",
            "\n",
            "\n",
            "trigonometric functions:\n",
            "  *incerse sine of matrix:\n",
            "    tensor([[-1.0099,  0.7643],\n",
            "        [-0.2787, -0.3934]])\n",
            "\n",
            "\n",
            "linear algebra operations:\n",
            "  *Determinant of matrix:\n",
            "    0.5150092840194702\n",
            "  *Single value decompotion of matrix:\n",
            "    torch.return_types.svd(\n",
            "U=tensor([[-0.9995,  0.0331],\n",
            "        [ 0.0331,  0.9995]]),\n",
            "S=tensor([1.0941, 0.4707]),\n",
            "V=tensor([[ 0.7652, -0.6438],\n",
            "        [-0.6438, -0.7652]]))\n",
            "\n",
            "\n",
            "statistical and aggregate operations:\n",
            "  Standard deviation:\n",
            "    (tensor(0.6463), tensor(-0.2033))\n",
            "  max:    0.6920351982116699\n",
            "  min:    -0.846796989440918\n",
            "\n",
            "\n"
          ]
        }
      ]
    },
    {
      "cell_type": "markdown",
      "source": [
        "# Day 2\n"
      ],
      "metadata": {
        "id": "XYDNLRUqPxLA"
      }
    },
    {
      "cell_type": "code",
      "source": [
        "%%time\n",
        "tns5 = torch.mul(tns,10)\n",
        "tns5"
      ],
      "metadata": {
        "id": "Yjs2nQLQNZtE",
        "colab": {
          "base_uri": "https://localhost:8080/"
        },
        "outputId": "1dd496e2-0100-4728-85f3-b178162fd2a0"
      },
      "execution_count": null,
      "outputs": [
        {
          "output_type": "stream",
          "name": "stdout",
          "text": [
            "CPU times: user 83 µs, sys: 16 µs, total: 99 µs\n",
            "Wall time: 106 µs\n"
          ]
        },
        {
          "output_type": "execute_result",
          "data": {
            "text/plain": [
              "tensor([[  0.,   5.,  10.,  15.,  20.,  25.,  30.,  35.,  40.,  45.,  50.,  55.],\n",
              "        [ 60.,  65.,  70.,  75.,  80.,  85.,  90.,  95., 100., 105., 110., 115.]])"
            ]
          },
          "metadata": {},
          "execution_count": 23
        }
      ]
    },
    {
      "cell_type": "code",
      "source": [
        "%%time\n",
        "tns5 = tns*10\n",
        "tns5"
      ],
      "metadata": {
        "colab": {
          "base_uri": "https://localhost:8080/"
        },
        "id": "cm5LzjYSsG9A",
        "outputId": "f7a4882c-3599-4d09-cf75-9cc3677fdef9"
      },
      "execution_count": null,
      "outputs": [
        {
          "output_type": "stream",
          "name": "stdout",
          "text": [
            "CPU times: user 411 µs, sys: 0 ns, total: 411 µs\n",
            "Wall time: 382 µs\n"
          ]
        },
        {
          "output_type": "execute_result",
          "data": {
            "text/plain": [
              "tensor([[  0.,   5.,  10.,  15.,  20.,  25.,  30.,  35.,  40.,  45.,  50.,  55.],\n",
              "        [ 60.,  65.,  70.,  75.,  80.,  85.,  90.,  95., 100., 105., 110., 115.]])"
            ]
          },
          "metadata": {},
          "execution_count": 24
        }
      ]
    },
    {
      "cell_type": "code",
      "source": [
        "%%time\n",
        "tns.T @ tns"
      ],
      "metadata": {
        "colab": {
          "base_uri": "https://localhost:8080/"
        },
        "id": "7vXIhj3WsPAm",
        "outputId": "329e1e92-f712-40b9-9b30-eea4abe6d3a1"
      },
      "execution_count": null,
      "outputs": [
        {
          "output_type": "stream",
          "name": "stdout",
          "text": [
            "CPU times: user 1.53 ms, sys: 104 µs, total: 1.64 ms\n",
            "Wall time: 12.1 ms\n"
          ]
        },
        {
          "output_type": "execute_result",
          "data": {
            "text/plain": [
              "tensor([[ 36.0000,  39.0000,  42.0000,  45.0000,  48.0000,  51.0000,  54.0000,\n",
              "          57.0000,  60.0000,  63.0000,  66.0000,  69.0000],\n",
              "        [ 39.0000,  42.5000,  46.0000,  49.5000,  53.0000,  56.5000,  60.0000,\n",
              "          63.5000,  67.0000,  70.5000,  74.0000,  77.5000],\n",
              "        [ 42.0000,  46.0000,  50.0000,  54.0000,  58.0000,  62.0000,  66.0000,\n",
              "          70.0000,  74.0000,  78.0000,  82.0000,  86.0000],\n",
              "        [ 45.0000,  49.5000,  54.0000,  58.5000,  63.0000,  67.5000,  72.0000,\n",
              "          76.5000,  81.0000,  85.5000,  90.0000,  94.5000],\n",
              "        [ 48.0000,  53.0000,  58.0000,  63.0000,  68.0000,  73.0000,  78.0000,\n",
              "          83.0000,  88.0000,  93.0000,  98.0000, 103.0000],\n",
              "        [ 51.0000,  56.5000,  62.0000,  67.5000,  73.0000,  78.5000,  84.0000,\n",
              "          89.5000,  95.0000, 100.5000, 106.0000, 111.5000],\n",
              "        [ 54.0000,  60.0000,  66.0000,  72.0000,  78.0000,  84.0000,  90.0000,\n",
              "          96.0000, 102.0000, 108.0000, 114.0000, 120.0000],\n",
              "        [ 57.0000,  63.5000,  70.0000,  76.5000,  83.0000,  89.5000,  96.0000,\n",
              "         102.5000, 109.0000, 115.5000, 122.0000, 128.5000],\n",
              "        [ 60.0000,  67.0000,  74.0000,  81.0000,  88.0000,  95.0000, 102.0000,\n",
              "         109.0000, 116.0000, 123.0000, 130.0000, 137.0000],\n",
              "        [ 63.0000,  70.5000,  78.0000,  85.5000,  93.0000, 100.5000, 108.0000,\n",
              "         115.5000, 123.0000, 130.5000, 138.0000, 145.5000],\n",
              "        [ 66.0000,  74.0000,  82.0000,  90.0000,  98.0000, 106.0000, 114.0000,\n",
              "         122.0000, 130.0000, 138.0000, 146.0000, 154.0000],\n",
              "        [ 69.0000,  77.5000,  86.0000,  94.5000, 103.0000, 111.5000, 120.0000,\n",
              "         128.5000, 137.0000, 145.5000, 154.0000, 162.5000]])"
            ]
          },
          "metadata": {},
          "execution_count": 25
        }
      ]
    },
    {
      "cell_type": "code",
      "source": [
        "e=torch.matmul(tns,tns)\n",
        "e.ndim,e.shape"
      ],
      "metadata": {
        "colab": {
          "base_uri": "https://localhost:8080/",
          "height": 159
        },
        "id": "7M3HfZR4sfy_",
        "outputId": "6f8dfa7f-174c-43ae-f770-3fbb2962499f"
      },
      "execution_count": null,
      "outputs": [
        {
          "output_type": "error",
          "ename": "RuntimeError",
          "evalue": "mat1 and mat2 shapes cannot be multiplied (2x12 and 2x12)",
          "traceback": [
            "\u001b[0;31m---------------------------------------------------------------------------\u001b[0m",
            "\u001b[0;31mRuntimeError\u001b[0m                              Traceback (most recent call last)",
            "\u001b[0;32m<ipython-input-26-5cc261a93158>\u001b[0m in \u001b[0;36m<cell line: 1>\u001b[0;34m()\u001b[0m\n\u001b[0;32m----> 1\u001b[0;31m \u001b[0me\u001b[0m\u001b[0;34m=\u001b[0m\u001b[0mtorch\u001b[0m\u001b[0;34m.\u001b[0m\u001b[0mmatmul\u001b[0m\u001b[0;34m(\u001b[0m\u001b[0mtns\u001b[0m\u001b[0;34m,\u001b[0m\u001b[0mtns\u001b[0m\u001b[0;34m)\u001b[0m\u001b[0;34m\u001b[0m\u001b[0;34m\u001b[0m\u001b[0m\n\u001b[0m\u001b[1;32m      2\u001b[0m \u001b[0me\u001b[0m\u001b[0;34m.\u001b[0m\u001b[0mndim\u001b[0m\u001b[0;34m,\u001b[0m\u001b[0me\u001b[0m\u001b[0;34m.\u001b[0m\u001b[0mshape\u001b[0m\u001b[0;34m\u001b[0m\u001b[0;34m\u001b[0m\u001b[0m\n",
            "\u001b[0;31mRuntimeError\u001b[0m: mat1 and mat2 shapes cannot be multiplied (2x12 and 2x12)"
          ]
        }
      ]
    },
    {
      "cell_type": "code",
      "source": [
        "tns=tns.reshape(24)"
      ],
      "metadata": {
        "id": "uFPJusXasyl2"
      },
      "execution_count": null,
      "outputs": []
    },
    {
      "cell_type": "code",
      "source": [
        "torch.matmul(tns,tns)\n"
      ],
      "metadata": {
        "colab": {
          "base_uri": "https://localhost:8080/"
        },
        "id": "9jxi2O99tHnI",
        "outputId": "f7f43bee-87a3-4538-84a3-524080b81837"
      },
      "execution_count": null,
      "outputs": [
        {
          "output_type": "execute_result",
          "data": {
            "text/plain": [
              "tensor(1081.)"
            ]
          },
          "metadata": {},
          "execution_count": 28
        }
      ]
    },
    {
      "cell_type": "code",
      "source": [
        "torch.mul(tns,tns)"
      ],
      "metadata": {
        "colab": {
          "base_uri": "https://localhost:8080/"
        },
        "id": "KH78TgpWtlEE",
        "outputId": "7788f5e7-a809-46ae-f363-f25e244adb51"
      },
      "execution_count": null,
      "outputs": [
        {
          "output_type": "execute_result",
          "data": {
            "text/plain": [
              "tensor([  0.0000,   0.2500,   1.0000,   2.2500,   4.0000,   6.2500,   9.0000,\n",
              "         12.2500,  16.0000,  20.2500,  25.0000,  30.2500,  36.0000,  42.2500,\n",
              "         49.0000,  56.2500,  64.0000,  72.2500,  81.0000,  90.2500, 100.0000,\n",
              "        110.2500, 121.0000, 132.2500])"
            ]
          },
          "metadata": {},
          "execution_count": 29
        }
      ]
    },
    {
      "cell_type": "markdown",
      "source": [
        "## Reshape , Stacking , Squeezing and  Unsqueezing"
      ],
      "metadata": {
        "id": "uKK4rJjfwAX_"
      }
    },
    {
      "cell_type": "code",
      "source": [
        "# prompt: generate  examples using tns for Reshape , Stacking , Squeezing and Unsqueezing show many example for dim value\n",
        "\n",
        "# Reshape\n",
        "print(f'{tns=}')\n",
        "print(f'{tns.shape=}')\n",
        "tns_reshaped = tns.reshape(4, 6)\n",
        "print(f'{tns_reshaped=}')\n",
        "print(f'{tns_reshaped.shape=}')\n",
        "\n",
        "# Stacking\n",
        "tns_stacked = torch.stack([tns, tns], dim=0)\n",
        "print(f'{tns_stacked=}')\n",
        "print(f'{tns_stacked.shape=}')\n",
        "\n",
        "tns_stacked = torch.stack([tns, tns], dim=1)\n",
        "print(f'{tns_stacked=}')\n",
        "print(f'{tns_stacked.shape=}')\n",
        "\n",
        "# Squeezing\n",
        "tns_squeezed = tns_reshaped.squeeze(dim=0)  # This won't do anything since dim=0 has a size greater than 1\n",
        "print(f'{tns_squeezed=}')\n",
        "print(f'{tns_squeezed.shape=}')\n",
        "\n",
        "tns_ones = torch.ones(1, 2, 3)\n",
        "print(f'{tns_ones=}')\n",
        "print(f'{tns_ones.shape=}')\n",
        "tns_squeezed = tns_ones.squeeze(dim=0)\n",
        "print(f'{tns_squeezed=}')\n",
        "print(f'{tns_squeezed.shape=}')\n",
        "\n",
        "# Unsqueezing\n",
        "tns_unsqueezed = tns_reshaped.unsqueeze(dim=0)\n",
        "print(f'{tns_unsqueezed=}')\n",
        "print(f'{tns_unsqueezed.shape=}')\n",
        "\n",
        "tns_unsqueezed = tns_reshaped.unsqueeze(dim=1)\n",
        "print(f'{tns_unsqueezed=}')\n",
        "print(f'{tns_unsqueezed.shape=}')\n"
      ],
      "metadata": {
        "colab": {
          "base_uri": "https://localhost:8080/"
        },
        "id": "XkqzqiDdtsEK",
        "outputId": "ccc408af-fec2-49d0-8906-f3eba4d68941"
      },
      "execution_count": null,
      "outputs": [
        {
          "output_type": "stream",
          "name": "stdout",
          "text": [
            "tns=tensor([ 0.0000,  0.5000,  1.0000,  1.5000,  2.0000,  2.5000,  3.0000,  3.5000,\n",
            "         4.0000,  4.5000,  5.0000,  5.5000,  6.0000,  6.5000,  7.0000,  7.5000,\n",
            "         8.0000,  8.5000,  9.0000,  9.5000, 10.0000, 10.5000, 11.0000, 11.5000])\n",
            "tns.shape=torch.Size([24])\n",
            "tns_reshaped=tensor([[ 0.0000,  0.5000,  1.0000,  1.5000,  2.0000,  2.5000],\n",
            "        [ 3.0000,  3.5000,  4.0000,  4.5000,  5.0000,  5.5000],\n",
            "        [ 6.0000,  6.5000,  7.0000,  7.5000,  8.0000,  8.5000],\n",
            "        [ 9.0000,  9.5000, 10.0000, 10.5000, 11.0000, 11.5000]])\n",
            "tns_reshaped.shape=torch.Size([4, 6])\n",
            "tns_stacked=tensor([[ 0.0000,  0.5000,  1.0000,  1.5000,  2.0000,  2.5000,  3.0000,  3.5000,\n",
            "          4.0000,  4.5000,  5.0000,  5.5000,  6.0000,  6.5000,  7.0000,  7.5000,\n",
            "          8.0000,  8.5000,  9.0000,  9.5000, 10.0000, 10.5000, 11.0000, 11.5000],\n",
            "        [ 0.0000,  0.5000,  1.0000,  1.5000,  2.0000,  2.5000,  3.0000,  3.5000,\n",
            "          4.0000,  4.5000,  5.0000,  5.5000,  6.0000,  6.5000,  7.0000,  7.5000,\n",
            "          8.0000,  8.5000,  9.0000,  9.5000, 10.0000, 10.5000, 11.0000, 11.5000]])\n",
            "tns_stacked.shape=torch.Size([2, 24])\n",
            "tns_stacked=tensor([[ 0.0000,  0.0000],\n",
            "        [ 0.5000,  0.5000],\n",
            "        [ 1.0000,  1.0000],\n",
            "        [ 1.5000,  1.5000],\n",
            "        [ 2.0000,  2.0000],\n",
            "        [ 2.5000,  2.5000],\n",
            "        [ 3.0000,  3.0000],\n",
            "        [ 3.5000,  3.5000],\n",
            "        [ 4.0000,  4.0000],\n",
            "        [ 4.5000,  4.5000],\n",
            "        [ 5.0000,  5.0000],\n",
            "        [ 5.5000,  5.5000],\n",
            "        [ 6.0000,  6.0000],\n",
            "        [ 6.5000,  6.5000],\n",
            "        [ 7.0000,  7.0000],\n",
            "        [ 7.5000,  7.5000],\n",
            "        [ 8.0000,  8.0000],\n",
            "        [ 8.5000,  8.5000],\n",
            "        [ 9.0000,  9.0000],\n",
            "        [ 9.5000,  9.5000],\n",
            "        [10.0000, 10.0000],\n",
            "        [10.5000, 10.5000],\n",
            "        [11.0000, 11.0000],\n",
            "        [11.5000, 11.5000]])\n",
            "tns_stacked.shape=torch.Size([24, 2])\n",
            "tns_squeezed=tensor([[ 0.0000,  0.5000,  1.0000,  1.5000,  2.0000,  2.5000],\n",
            "        [ 3.0000,  3.5000,  4.0000,  4.5000,  5.0000,  5.5000],\n",
            "        [ 6.0000,  6.5000,  7.0000,  7.5000,  8.0000,  8.5000],\n",
            "        [ 9.0000,  9.5000, 10.0000, 10.5000, 11.0000, 11.5000]])\n",
            "tns_squeezed.shape=torch.Size([4, 6])\n",
            "tns_ones=tensor([[[1., 1., 1.],\n",
            "         [1., 1., 1.]]])\n",
            "tns_ones.shape=torch.Size([1, 2, 3])\n",
            "tns_squeezed=tensor([[1., 1., 1.],\n",
            "        [1., 1., 1.]])\n",
            "tns_squeezed.shape=torch.Size([2, 3])\n",
            "tns_unsqueezed=tensor([[[ 0.0000,  0.5000,  1.0000,  1.5000,  2.0000,  2.5000],\n",
            "         [ 3.0000,  3.5000,  4.0000,  4.5000,  5.0000,  5.5000],\n",
            "         [ 6.0000,  6.5000,  7.0000,  7.5000,  8.0000,  8.5000],\n",
            "         [ 9.0000,  9.5000, 10.0000, 10.5000, 11.0000, 11.5000]]])\n",
            "tns_unsqueezed.shape=torch.Size([1, 4, 6])\n",
            "tns_unsqueezed=tensor([[[ 0.0000,  0.5000,  1.0000,  1.5000,  2.0000,  2.5000]],\n",
            "\n",
            "        [[ 3.0000,  3.5000,  4.0000,  4.5000,  5.0000,  5.5000]],\n",
            "\n",
            "        [[ 6.0000,  6.5000,  7.0000,  7.5000,  8.0000,  8.5000]],\n",
            "\n",
            "        [[ 9.0000,  9.5000, 10.0000, 10.5000, 11.0000, 11.5000]]])\n",
            "tns_unsqueezed.shape=torch.Size([4, 1, 6])\n"
          ]
        }
      ]
    },
    {
      "cell_type": "code",
      "source": [
        "# prompt: generate few example for permute\n",
        "\n",
        "# Create a tensor\n",
        "tns = torch.rand(2, 3, 4)\n",
        "tns\n"
      ],
      "metadata": {
        "id": "QRUwqqauxVS4",
        "colab": {
          "base_uri": "https://localhost:8080/"
        },
        "outputId": "cceb9d54-15c5-4b36-f79e-b1c37f88feda"
      },
      "execution_count": null,
      "outputs": [
        {
          "output_type": "execute_result",
          "data": {
            "text/plain": [
              "tensor([[[0.3865, 0.2003, 0.4563, 0.2539],\n",
              "         [0.2956, 0.3413, 0.0248, 0.9103],\n",
              "         [0.9192, 0.4216, 0.4431, 0.2959]],\n",
              "\n",
              "        [[0.0485, 0.0134, 0.6858, 0.2255],\n",
              "         [0.1786, 0.4610, 0.3335, 0.3382],\n",
              "         [0.5161, 0.3939, 0.3278, 0.2606]]])"
            ]
          },
          "metadata": {},
          "execution_count": 33
        }
      ]
    },
    {
      "cell_type": "code",
      "source": [
        "# Permute the dimensions\n",
        "tns_permuted = tns.permute(2, 0, 1)\n",
        "tns_permuted,tns_permuted.shape\n",
        "\n",
        "\n"
      ],
      "metadata": {
        "colab": {
          "base_uri": "https://localhost:8080/"
        },
        "id": "AUxEy5M89qxw",
        "outputId": "5eb6557e-d1c0-4cb0-88ae-58642216e6e1"
      },
      "execution_count": null,
      "outputs": [
        {
          "output_type": "execute_result",
          "data": {
            "text/plain": [
              "(tensor([[[0.3865, 0.2956, 0.9192],\n",
              "          [0.0485, 0.1786, 0.5161]],\n",
              " \n",
              "         [[0.2003, 0.3413, 0.4216],\n",
              "          [0.0134, 0.4610, 0.3939]],\n",
              " \n",
              "         [[0.4563, 0.0248, 0.4431],\n",
              "          [0.6858, 0.3335, 0.3278]],\n",
              " \n",
              "         [[0.2539, 0.9103, 0.2959],\n",
              "          [0.2255, 0.3382, 0.2606]]]),\n",
              " torch.Size([4, 2, 3]))"
            ]
          },
          "metadata": {},
          "execution_count": 36
        }
      ]
    },
    {
      "cell_type": "code",
      "source": [
        "# Another example\n",
        "tns_permuted = tns.permute(1, 2, 0)\n",
        "print(f'{tns_permuted=}')\n",
        "print(f'{tns_permuted.shape=}')"
      ],
      "metadata": {
        "colab": {
          "base_uri": "https://localhost:8080/"
        },
        "id": "BJH7Xh5j-z__",
        "outputId": "111099f4-c4b6-4203-81fc-adfe8f9111da"
      },
      "execution_count": null,
      "outputs": [
        {
          "output_type": "stream",
          "name": "stdout",
          "text": [
            "tns_permuted=tensor([[[0.3865, 0.0485],\n",
            "         [0.2003, 0.0134],\n",
            "         [0.4563, 0.6858],\n",
            "         [0.2539, 0.2255]],\n",
            "\n",
            "        [[0.2956, 0.1786],\n",
            "         [0.3413, 0.4610],\n",
            "         [0.0248, 0.3335],\n",
            "         [0.9103, 0.3382]],\n",
            "\n",
            "        [[0.9192, 0.5161],\n",
            "         [0.4216, 0.3939],\n",
            "         [0.4431, 0.3278],\n",
            "         [0.2959, 0.2606]]])\n",
            "tns_permuted.shape=torch.Size([3, 4, 2])\n"
          ]
        }
      ]
    },
    {
      "cell_type": "code",
      "source": [
        "tns"
      ],
      "metadata": {
        "colab": {
          "base_uri": "https://localhost:8080/"
        },
        "id": "p47nOtXi-0ly",
        "outputId": "2b560221-eb72-41a4-febc-28f7c79b3de3"
      },
      "execution_count": null,
      "outputs": [
        {
          "output_type": "execute_result",
          "data": {
            "text/plain": [
              "tensor([[[0.3865, 0.2003, 0.4563, 0.2539],\n",
              "         [0.2956, 0.3413, 0.0248, 0.9103],\n",
              "         [0.9192, 0.4216, 0.4431, 0.2959]],\n",
              "\n",
              "        [[0.0485, 0.0134, 0.6858, 0.2255],\n",
              "         [0.1786, 0.4610, 0.3335, 0.3382],\n",
              "         [0.5161, 0.3939, 0.3278, 0.2606]]])"
            ]
          },
          "metadata": {},
          "execution_count": 37
        }
      ]
    },
    {
      "cell_type": "code",
      "source": [
        "tns_permuted[0,0,0]=10\n",
        "tns"
      ],
      "metadata": {
        "colab": {
          "base_uri": "https://localhost:8080/"
        },
        "id": "CWxqZ6eW_Ofa",
        "outputId": "877e3ce4-e5fb-4573-8f2c-2b06d4c4fa8c"
      },
      "execution_count": null,
      "outputs": [
        {
          "output_type": "execute_result",
          "data": {
            "text/plain": [
              "tensor([[[10.0000,  0.2003,  0.4563,  0.2539],\n",
              "         [ 0.2956,  0.3413,  0.0248,  0.9103],\n",
              "         [ 0.9192,  0.4216,  0.4431,  0.2959]],\n",
              "\n",
              "        [[ 0.0485,  0.0134,  0.6858,  0.2255],\n",
              "         [ 0.1786,  0.4610,  0.3335,  0.3382],\n",
              "         [ 0.5161,  0.3939,  0.3278,  0.2606]]])"
            ]
          },
          "metadata": {},
          "execution_count": 40
        }
      ]
    },
    {
      "cell_type": "code",
      "source": [
        "tns.dtype"
      ],
      "metadata": {
        "colab": {
          "base_uri": "https://localhost:8080/"
        },
        "id": "P3wKUG73Ggcq",
        "outputId": "00cd88bc-3dc0-464f-c1d1-d96f7c041aca"
      },
      "execution_count": null,
      "outputs": [
        {
          "output_type": "execute_result",
          "data": {
            "text/plain": [
              "torch.float32"
            ]
          },
          "metadata": {},
          "execution_count": 49
        }
      ]
    },
    {
      "cell_type": "markdown",
      "source": [
        "## PyTorch tensor & numpy\n"
      ],
      "metadata": {
        "id": "Koa1zRb3CYps"
      }
    },
    {
      "cell_type": "code",
      "source": [
        "import torch\n",
        "import numpy as np\n",
        "array = np.arange(1.0,8.0)\n",
        "print(array,type(array[0]))\n",
        "tns_6 = torch.from_numpy(array).type(torch.float32)\n",
        "tns_6,tns_6.dtype"
      ],
      "metadata": {
        "colab": {
          "base_uri": "https://localhost:8080/"
        },
        "id": "M4kkB25P_ZMP",
        "outputId": "a7d068b5-1b49-4be7-a5e7-7706bf701845"
      },
      "execution_count": null,
      "outputs": [
        {
          "output_type": "stream",
          "name": "stdout",
          "text": [
            "[1. 2. 3. 4. 5. 6. 7.] <class 'numpy.float64'>\n"
          ]
        },
        {
          "output_type": "execute_result",
          "data": {
            "text/plain": [
              "(tensor([1., 2., 3., 4., 5., 6., 7.]), torch.float32)"
            ]
          },
          "metadata": {},
          "execution_count": 55
        }
      ]
    },
    {
      "cell_type": "markdown",
      "source": [
        "## Reproducibility"
      ],
      "metadata": {
        "id": "P4-2B17GHdrz"
      }
    },
    {
      "cell_type": "code",
      "source": [
        "import torch\n",
        "import random\n",
        "RANDOM_SEED = 24022002\n",
        "torch.manual_seed(RANDOM_SEED)\n",
        "rand_tns0 = torch.rand(5,5)\n",
        "rand_tns1= torch.rand(5,5)\n",
        "\n",
        "rand_tns0 == rand_tns1\n",
        "# we need true but we r geting false because we did not use random for the rand_tns1\n"
      ],
      "metadata": {
        "colab": {
          "base_uri": "https://localhost:8080/"
        },
        "id": "jxlZJDJqHcqF",
        "outputId": "180f8d19-8f5d-4352-dca7-63e1df802d48"
      },
      "execution_count": null,
      "outputs": [
        {
          "output_type": "execute_result",
          "data": {
            "text/plain": [
              "tensor([[False, False, False, False, False],\n",
              "        [False, False, False, False, False],\n",
              "        [False, False, False, False, False],\n",
              "        [False, False, False, False, False],\n",
              "        [False, False, False, False, False]])"
            ]
          },
          "metadata": {},
          "execution_count": 61
        }
      ]
    },
    {
      "cell_type": "code",
      "source": [
        "import torch\n",
        "import random\n",
        "RANDOM_SEED = 24022002\n",
        "torch.manual_seed(RANDOM_SEED)\n",
        "rand_tns0 = torch.rand(5,5)\n",
        "torch.manual_seed(RANDOM_SEED)\n",
        "rand_tns1= torch.rand(5,5)\n",
        "# now it workes as intended\n",
        "rand_tns0 == rand_tns1\n"
      ],
      "metadata": {
        "colab": {
          "base_uri": "https://localhost:8080/"
        },
        "id": "gkWxDcb_F48r",
        "outputId": "58200a68-fa28-41e7-c50a-4a12608a34df"
      },
      "execution_count": null,
      "outputs": [
        {
          "output_type": "execute_result",
          "data": {
            "text/plain": [
              "tensor([[True, True, True, True, True],\n",
              "        [True, True, True, True, True],\n",
              "        [True, True, True, True, True],\n",
              "        [True, True, True, True, True],\n",
              "        [True, True, True, True, True]])"
            ]
          },
          "metadata": {},
          "execution_count": 1
        }
      ]
    },
    {
      "cell_type": "markdown",
      "source": [
        "# Running tensors on GPUs"
      ],
      "metadata": {
        "id": "YqkskdeVJk_H"
      }
    },
    {
      "cell_type": "code",
      "source": [
        "!nvidia-smi"
      ],
      "metadata": {
        "colab": {
          "base_uri": "https://localhost:8080/"
        },
        "id": "i-l9ctr1Jj6r",
        "outputId": "96f4add4-1a91-4951-ec9c-f24637dac382"
      },
      "execution_count": null,
      "outputs": [
        {
          "output_type": "stream",
          "name": "stdout",
          "text": [
            "Thu Sep 12 07:49:56 2024       \n",
            "+---------------------------------------------------------------------------------------+\n",
            "| NVIDIA-SMI 535.104.05             Driver Version: 535.104.05   CUDA Version: 12.2     |\n",
            "|-----------------------------------------+----------------------+----------------------+\n",
            "| GPU  Name                 Persistence-M | Bus-Id        Disp.A | Volatile Uncorr. ECC |\n",
            "| Fan  Temp   Perf          Pwr:Usage/Cap |         Memory-Usage | GPU-Util  Compute M. |\n",
            "|                                         |                      |               MIG M. |\n",
            "|=========================================+======================+======================|\n",
            "|   0  Tesla T4                       Off | 00000000:00:04.0 Off |                    0 |\n",
            "| N/A   60C    P8              11W /  70W |      0MiB / 15360MiB |      0%      Default |\n",
            "|                                         |                      |                  N/A |\n",
            "+-----------------------------------------+----------------------+----------------------+\n",
            "                                                                                         \n",
            "+---------------------------------------------------------------------------------------+\n",
            "| Processes:                                                                            |\n",
            "|  GPU   GI   CI        PID   Type   Process name                            GPU Memory |\n",
            "|        ID   ID                                                             Usage      |\n",
            "|=======================================================================================|\n",
            "|  No running processes found                                                           |\n",
            "+---------------------------------------------------------------------------------------+\n"
          ]
        }
      ]
    },
    {
      "cell_type": "code",
      "source": [
        "torch.cuda.is_available()\n",
        "\n",
        "D = \"cuda\" if torch.cuda.is_available() else \"cpu\"\n",
        "D"
      ],
      "metadata": {
        "colab": {
          "base_uri": "https://localhost:8080/",
          "height": 35
        },
        "id": "ZeQTeHGSIw8c",
        "outputId": "0de380c6-1bed-419c-f877-d525c4c30bd7"
      },
      "execution_count": null,
      "outputs": [
        {
          "output_type": "execute_result",
          "data": {
            "text/plain": [
              "'cuda'"
            ],
            "application/vnd.google.colaboratory.intrinsic+json": {
              "type": "string"
            }
          },
          "metadata": {},
          "execution_count": 3
        }
      ]
    },
    {
      "cell_type": "code",
      "source": [
        "\n",
        "tns_simp = torch.tensor([1,2,3])\n",
        "tns_simp,tns_simp.device"
      ],
      "metadata": {
        "colab": {
          "base_uri": "https://localhost:8080/"
        },
        "id": "GXn7PDh3LAA3",
        "outputId": "1ee48bc6-13dd-49b9-c71f-88e123a6ffc5"
      },
      "execution_count": null,
      "outputs": [
        {
          "output_type": "execute_result",
          "data": {
            "text/plain": [
              "(tensor([1, 2, 3]), device(type='cpu'))"
            ]
          },
          "metadata": {},
          "execution_count": 5
        }
      ]
    },
    {
      "cell_type": "code",
      "source": [
        "gpu_tns=tns_simp.to(D)\n",
        "gpu_tns"
      ],
      "metadata": {
        "colab": {
          "base_uri": "https://localhost:8080/"
        },
        "id": "qsiGvKf1MY91",
        "outputId": "f212390e-9f84-49d3-de39-f6fae1c3648c"
      },
      "execution_count": null,
      "outputs": [
        {
          "output_type": "execute_result",
          "data": {
            "text/plain": [
              "tensor([1, 2, 3], device='cuda:0')"
            ]
          },
          "metadata": {},
          "execution_count": 6
        }
      ]
    },
    {
      "cell_type": "code",
      "source": [
        "gpu_tns.numpy()"
      ],
      "metadata": {
        "colab": {
          "base_uri": "https://localhost:8080/",
          "height": 159
        },
        "id": "PG3xGGpcMq2G",
        "outputId": "a7a7ba84-258f-412f-b712-f48429b9ec53"
      },
      "execution_count": null,
      "outputs": [
        {
          "output_type": "error",
          "ename": "TypeError",
          "evalue": "can't convert cuda:0 device type tensor to numpy. Use Tensor.cpu() to copy the tensor to host memory first.",
          "traceback": [
            "\u001b[0;31m---------------------------------------------------------------------------\u001b[0m",
            "\u001b[0;31mTypeError\u001b[0m                                 Traceback (most recent call last)",
            "\u001b[0;32m<ipython-input-9-951716894dc9>\u001b[0m in \u001b[0;36m<cell line: 1>\u001b[0;34m()\u001b[0m\n\u001b[0;32m----> 1\u001b[0;31m \u001b[0mgpu_tns\u001b[0m\u001b[0;34m.\u001b[0m\u001b[0mnumpy\u001b[0m\u001b[0;34m(\u001b[0m\u001b[0;34m)\u001b[0m\u001b[0;34m\u001b[0m\u001b[0;34m\u001b[0m\u001b[0m\n\u001b[0m",
            "\u001b[0;31mTypeError\u001b[0m: can't convert cuda:0 device type tensor to numpy. Use Tensor.cpu() to copy the tensor to host memory first."
          ]
        }
      ]
    },
    {
      "cell_type": "code",
      "source": [],
      "metadata": {
        "id": "-kCVj9YPOGgh"
      },
      "execution_count": null,
      "outputs": []
    }
  ]
}